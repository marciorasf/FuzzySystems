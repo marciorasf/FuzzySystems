{
  "nbformat": 4,
  "nbformat_minor": 0,
  "metadata": {
    "language_info": {
      "codemirror_mode": {
        "name": "ipython",
        "version": 3
      },
      "file_extension": ".py",
      "mimetype": "text/x-python",
      "name": "python",
      "nbconvert_exporter": "python",
      "pygments_lexer": "ipython3",
      "version": "3.8.3-final"
    },
    "orig_nbformat": 2,
    "kernelspec": {
      "name": "python38364bitbasecondab5eebd88a4dc48dab9247fb3efacc3f1",
      "display_name": "Python 3.8.3 64-bit ('base': conda)"
    },
    "colab": {
      "name": "tp1.ipynb",
      "provenance": [],
      "include_colab_link": true
    }
  },
  "cells": [
    {
      "cell_type": "markdown",
      "metadata": {
        "id": "view-in-github",
        "colab_type": "text"
      },
      "source": [
        "<a href=\"https://colab.research.google.com/github/marciorasf/fuzzy-systems/blob/master/tp1/tp1.ipynb\" target=\"_parent\"><img src=\"https://colab.research.google.com/assets/colab-badge.svg\" alt=\"Open In Colab\"/></a>"
      ]
    },
    {
      "cell_type": "code",
      "metadata": {
        "id": "GEN4v4NrqnNn",
        "colab_type": "code",
        "colab": {
          "resources": {
            "http://localhost:8080/nbextensions/google.colab/files.js": {
              "data": "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",
              "ok": true,
              "headers": [
                [
                  "content-type",
                  "application/javascript"
                ]
              ],
              "status": 200,
              "status_text": ""
            }
          },
          "base_uri": "https://localhost:8080/",
          "height": 108
        },
        "outputId": "dc8b3eac-78d6-4b1f-93a4-8712a041a4a0"
      },
      "source": [
        "from google.colab import files\n",
        "uploaded = files.upload()"
      ],
      "execution_count": 21,
      "outputs": [
        {
          "output_type": "display_data",
          "data": {
            "text/html": [
              "\n",
              "     <input type=\"file\" id=\"files-ebbd6901-cdb4-4353-905c-a6becc676b86\" name=\"files[]\" multiple disabled\n",
              "        style=\"border:none\" />\n",
              "     <output id=\"result-ebbd6901-cdb4-4353-905c-a6becc676b86\">\n",
              "      Upload widget is only available when the cell has been executed in the\n",
              "      current browser session. Please rerun this cell to enable.\n",
              "      </output>\n",
              "      <script src=\"/nbextensions/google.colab/files.js\"></script> "
            ],
            "text/plain": [
              "<IPython.core.display.HTML object>"
            ]
          },
          "metadata": {
            "tags": []
          }
        },
        {
          "output_type": "stream",
          "text": [
            "Saving fcm_dataset.mat to fcm_dataset (1).mat\n",
            "Saving photo002.jpg to photo002 (1).jpg\n"
          ],
          "name": "stdout"
        }
      ]
    },
    {
      "cell_type": "code",
      "metadata": {
        "id": "QfnTADxvpQb1",
        "colab_type": "code",
        "colab": {}
      },
      "source": [
        "from scipy.io import loadmat\n",
        "import pandas as pd\n",
        "import plotly.express as px\n",
        "import plotly.graph_objects as go\n",
        "from plotly.subplots import make_subplots\n",
        "import numpy as np\n",
        "from functools import reduce\n",
        "\n",
        "\n",
        "def euclNorm(arr):\n",
        "    return np.linalg.norm(arr, ord=2)\n",
        "\n",
        "\n",
        "def cMeans(data, nClusters, maxIterations=2, mParam=2):\n",
        "    xDimension = data.shape[1]\n",
        "    nRows = data.shape[0]\n",
        "    xColumns = [f\"x{i}\" for i in range(xDimension)]\n",
        "    clusterColumns = [f\"k{i}\" for i in range(nClusters)]\n",
        "\n",
        "    dfData = pd.DataFrame(data, columns=xColumns)\n",
        "    dfCentroids = pd.DataFrame(\n",
        "        np.zeros((nClusters, xDimension)), columns=xColumns, index=clusterColumns,\n",
        "    )\n",
        "\n",
        "    for clusterCol in clusterColumns:\n",
        "        dfData[clusterCol] = 0\n",
        "\n",
        "    for row_label, _ in dfData.iterrows():\n",
        "        dfData.loc[row_label, clusterColumns] = np.random.dirichlet(\n",
        "            np.ones(nClusters), size=1\n",
        "        )[0]\n",
        "\n",
        "    for clusterCol in clusterColumns:\n",
        "        dfCentroids.loc[clusterCol, :] = [\n",
        "            [np.dot((dfData[clusterCol] ** mParam), dfData[xCol]) for xCol in xColumns]\n",
        "        ] / (dfData[clusterCol] ** 2).sum()\n",
        "\n",
        "    exponent = 2 / (mParam - 1)\n",
        "    for gen in range(maxIterations):\n",
        "        for clusterCol in clusterColumns:\n",
        "            X = dfData.loc[:, xColumns]\n",
        "            denominator = np.zeros((nRows, 1))\n",
        "            for _, centroid in dfCentroids.iterrows():\n",
        "                tempNum = np.array(\n",
        "                    list(\n",
        "                        map(\n",
        "                            euclNorm,\n",
        "                            np.array((X - dfCentroids.loc[clusterCol, xColumns])),\n",
        "                        )\n",
        "                    )\n",
        "                ).reshape((nRows,1))\n",
        "                tempDen = (\n",
        "                    np.array(list(map(euclNorm, np.array((X - centroid)))))\n",
        "                ).reshape((nRows,1))\n",
        "                tempFrac = (tempNum/tempDen)\n",
        "                tempRes = tempFrac**exponent\n",
        "                denominator += tempRes\n",
        "            dfData.loc[:, clusterCol] = np.ones((nRows, 1)) / denominator\n",
        "\n",
        "        for clusterCol in clusterColumns:\n",
        "            dfCentroids.loc[clusterCol, :] = [\n",
        "                [\n",
        "                    np.dot((dfData[clusterCol] ** mParam), dfData[xCol])\n",
        "                    for xCol in xColumns\n",
        "                ]\n",
        "            ] / (dfData[clusterCol] ** 2).sum()\n",
        "\n",
        "        print(f\"iteration {gen}\")\n",
        "\n",
        "    return [dfData, dfCentroids]\n"
      ],
      "execution_count": 58,
      "outputs": []
    },
    {
      "cell_type": "code",
      "metadata": {
        "id": "Nv8Nxg19pQb6",
        "colab_type": "code",
        "colab": {}
      },
      "source": [
        "def printData2d(data, x, y):\n",
        "    fig = px.scatter(data, x=x, y=y)\n",
        "    fig.show()\n",
        "\n",
        "def printCentroids2d(data, x, y):\n",
        "    fig = px.scatter(centroids, x=x, y=y)\n",
        "    fig.show()\n",
        "\n",
        "def printDataAndCentroids2d(data, centroids, keys):\n",
        "    fig = make_subplots(x_title=\"x\", y_title=\"y\")\n",
        "\n",
        "    # Add traces\n",
        "    fig.add_trace(go.Scatter(\n",
        "        x=data[keys[0]], \n",
        "        y=data[keys[1]], \n",
        "        mode=\"markers\", \n",
        "        name=\"Input points\"\n",
        "        ))\n",
        "    fig.add_trace(go.Scatter(\n",
        "        x=centroids[keys[0]], \n",
        "        y=centroids[keys[1]], \n",
        "        mode=\"markers\", \n",
        "        name=\"Centroids\",\n",
        "        marker=dict(\n",
        "            color=\"red\",\n",
        "            size=15\n",
        "        )\n",
        "        ))\n",
        "    fig.show()\n",
        "\n",
        "def printDataAndCentroids3d(data, centroids, keys):\n",
        "    fig = make_subplots(x_title=\"x\", y_title=\"y\")\n",
        "\n",
        "    # Add traces\n",
        "    fig.add_trace(go.Scatter3d(\n",
        "        x=data[keys[0]], \n",
        "        y=data[keys[1]], \n",
        "        z=data[keys[2]], \n",
        "        mode=\"markers\", \n",
        "        name=\"Input points\",\n",
        "        marker=dict(\n",
        "            color=\"blue\",\n",
        "            size=2\n",
        "        )\n",
        "        ))\n",
        "    fig.add_trace(go.Scatter3d(\n",
        "        x=centroids[keys[0]], \n",
        "        y=centroids[keys[1]],\n",
        "        z=centroids[keys[2]], \n",
        "        mode=\"markers\", \n",
        "        name=\"Centroids\",\n",
        "        marker=dict(\n",
        "            color=\"red\",\n",
        "            size=20\n",
        "        )\n",
        "        ))\n",
        "    fig.show()"
      ],
      "execution_count": 64,
      "outputs": []
    },
    {
      "cell_type": "code",
      "metadata": {
        "tags": [],
        "id": "rrf3jYC1pQb_",
        "colab_type": "code",
        "colab": {}
      },
      "source": [
        "rawData = loadmat(io.BytesIO(uploaded['fcm_dataset.mat']))\n",
        "part1Data, part1Centroids = cMeans(rawData[\"x\"], 4, 2, 10)"
      ],
      "execution_count": null,
      "outputs": []
    },
    {
      "cell_type": "code",
      "metadata": {
        "id": "TUFveE7ptUHz",
        "colab_type": "code",
        "colab": {
          "base_uri": "https://localhost:8080/",
          "height": 305
        },
        "outputId": "f8794fc3-81c7-4d65-c713-a45d2e6945c4"
      },
      "source": [
        "imageMatrix = imageio.imread(io.BytesIO(uploaded['photo002.jpg']))\n",
        "flatImage = np.array([item for sublist in imageMatrix for item in sublist])\n",
        "flatImage = flatImage[0 : : 20]\n",
        "part2Data, part2Centroids = cMeans(flatImage, 3, 100, 2)\n",
        "print(part2Centroids)"
      ],
      "execution_count": null,
      "outputs": [
        {
          "output_type": "stream",
          "text": [
            "iteration 0\n",
            "iteration 1\n",
            "iteration 2\n",
            "iteration 3\n",
            "iteration 4\n",
            "iteration 5\n",
            "iteration 6\n",
            "iteration 7\n",
            "iteration 8\n",
            "iteration 9\n",
            "iteration 10\n",
            "iteration 11\n",
            "iteration 12\n",
            "iteration 13\n",
            "iteration 14\n",
            "iteration 15\n",
            "iteration 16\n"
          ],
          "name": "stdout"
        }
      ]
    },
    {
      "cell_type": "code",
      "metadata": {
        "id": "92bWwjq7rJfA",
        "colab_type": "code",
        "colab": {
          "base_uri": "https://localhost:8080/",
          "height": 542
        },
        "outputId": "be464033-1a00-4718-b2ae-6b10ecbb6c49"
      },
      "source": [
        "printDataAndCentroids3d(part2Data, part2Centroids, [\"x0\", \"x1\", \"x2\"])"
      ],
      "execution_count": 78,
      "outputs": [
        {
          "output_type": "display_data",
          "data": {
            "text/html": [
              "<html>\n",
              "<head><meta charset=\"utf-8\" /></head>\n",
              "<body>\n",
              "    <div>\n",
              "            <script src=\"https://cdnjs.cloudflare.com/ajax/libs/mathjax/2.7.5/MathJax.js?config=TeX-AMS-MML_SVG\"></script><script type=\"text/javascript\">if (window.MathJax) {MathJax.Hub.Config({SVG: {font: \"STIX-Web\"}});}</script>\n",
              "                <script type=\"text/javascript\">window.PlotlyConfig = {MathJaxConfig: 'local'};</script>\n",
              "        <script src=\"https://cdn.plot.ly/plotly-latest.min.js\"></script>    \n",
              "            <div id=\"3cb5a892-d398-485f-a6d8-dadf6ad781f8\" class=\"plotly-graph-div\" style=\"height:525px; width:100%;\"></div>\n",
              "            <script type=\"text/javascript\">\n",
              "                \n",
              "                    window.PLOTLYENV=window.PLOTLYENV || {};\n",
              "                    \n",
              "                if (document.getElementById(\"3cb5a892-d398-485f-a6d8-dadf6ad781f8\")) {\n",
              "                    Plotly.newPlot(\n",
              "                        '3cb5a892-d398-485f-a6d8-dadf6ad781f8',\n",
              "                        [{\"marker\": {\"color\": \"blue\", \"size\": 2}, \"mode\": \"markers\", \"name\": \"Input points\", \"type\": \"scatter3d\", \"x\": [15, 74, 71, 70, 89, 77, 73, 82, 71, 72, 75, 73, 76, 76, 85, 77, 81, 70, 78, 79, 76, 81, 67, 80, 84, 80, 80, 78, 72, 77, 77, 71, 69, 83, 81, 84, 72, 81, 80, 73, 73, 69, 77, 81, 81, 82, 74, 84, 76, 75, 69, 69, 86, 83, 84, 79, 72, 82, 72, 79, 71, 73, 83, 86, 78, 71, 94, 78, 78, 77, 73, 74, 80, 80, 83, 74, 72, 77, 78, 70, 69, 68, 77, 78, 81, 79, 81, 64, 80, 72, 76, 83, 81, 78, 75, 89, 71, 97, 66, 72, 66, 79, 76, 85, 80, 73, 76, 82, 75, 74, 74, 81, 78, 71, 78, 72, 75, 76, 69, 79, 73, 77, 82, 85, 83, 80, 73, 66, 82, 83, 80, 83, 75, 79, 76, 82, 68, 71, 77, 77, 78, 84, 78, 83, 71, 85, 65, 88, 74, 77, 80, 84, 80, 68, 70, 72, 77, 77, 78, 82, 81, 76, 77, 80, 79, 67, 74, 78, 83, 81, 81, 74, 80, 77, 73, 70, 74, 84, 80, 82, 75, 77, 78, 73, 77, 67, 78, 74, 82, 76, 75, 80, 78, 69, 68, 80, 74, 91, 76, 74, 80, 80, 77, 67, 68, 76, 77, 81, 74, 75, 78, 80, 74, 64, 71, 72, 67, 73, 82, 74, 78, 79, 67, 63, 77, 74, 79, 73, 77, 72, 81, 76, 62, 70, 76, 69, 67, 73, 77, 80, 80, 68, 69, 79, 77, 73, 70, 81, 81, 80, 78, 69, 81, 79, 78, 78, 82, 71, 75, 75, 73, 66, 66, 81, 70, 62, 89, 77, 82, 74, 66, 68, 70, 79, 72, 82, 80, 84, 77, 74, 71, 73, 74, 77, 72, 83, 80, 80, 81, 71, 69, 75, 74, 76, 78, 81, 81, 74, 80, 70, 71, 75, 80, 76, 72, 77, 74, 76, 78, 68, 83, 75, 74, 76, 76, 81, 79, 74, 74, 71, 73, 77, 82, 78, 88, 80, 69, 81, 69, 73, 81, 68, 75, 82, 79, 80, 76, 67, 79, 76, 73, 69, 79, 83, 80, 77, 77, 68, 68, 77, 80, 79, 74, 70, 69, 75, 76, 81, 72, 80, 71, 76, 66, 73, 86, 79, 69, 71, 81, 77, 72, 69, 81, 78, 82, 79, 68, 76, 83, 71, 68, 72, 78, 79, 81, 69, 74, 65, 95, 102, 70, 68, 82, 84, 85, 69, 77, 84, 77, 79, 81, 80, 81, 75, 83, 66, 77, 83, 73, 81, 82, 75, 83, 79, 66, 83, 84, 82, 74, 75, 75, 79, 77, 79, 72, 78, 94, 77, 75, 77, 82, 71, 78, 69, 78, 124, 81, 77, 78, 78, 82, 102, 73, 69, 77, 91, 81, 74, 75, 72, 81, 79, 76, 73, 73, 90, 73, 75, 76, 83, 74, 78, 64, 73, 98, 94, 72, 70, 83, 80, 83, 78, 67, 72, 138, 99, 77, 90, 71, 70, 76, 74, 75, 80, 109, 72, 82, 75, 71, 85, 79, 87, 84, 90, 91, 77, 81, 79, 71, 81, 76, 64, 134, 110, 75, 76, 99, 79, 76, 74, 66, 85, 161, 99, 75, 69, 80, 70, 84, 75, 68, 56, 135, 87, 75, 70, 81, 73, 80, 74, 70, 82, 106, 79, 79, 75, 75, 82, 76, 70, 83, 156, 104, 76, 73, 75, 69, 80, 77, 72, 90, 148, 67, 77, 79, 79, 72, 73, 63, 75, 118, 96, 75, 76, 76, 74, 81, 97, 74, 86, 132, 115, 78, 71, 80, 70, 79, 79, 70, 143, 159, 79, 79, 73, 74, 79, 64, 66, 88, 146, 106, 70, 76, 73, 83, 83, 82, 69, 76, 164, 122, 78, 77, 80, 70, 78, 77, 70, 85, 163, 84, 79, 78, 67, 82, 82, 63, 68, 97, 126, 73, 74, 74, 80, 82, 79, 68, 87, 135, 86, 70, 73, 76, 69, 72, 68, 85, 125, 139, 87, 78, 77, 72, 80, 83, 74, 54, 129, 104, 76, 72, 76, 88, 84, 69, 67, 80, 101, 86, 78, 73, 71, 73, 76, 75, 77, 133, 107, 84, 76, 73, 72, 82, 81, 65, 77, 127, 126, 78, 71, 74, 70, 78, 71, 78, 119, 141, 86, 79, 77, 72, 78, 80, 64, 70, 130, 127, 81, 74, 75, 71, 81, 67, 67, 116, 150, 137, 81, 76, 73, 74, 79, 70, 73, 104, 148, 86, 75, 74, 71, 82, 64, 67, 65, 95, 124, 75, 74, 71, 71, 78, 75, 81, 104, 141, 75, 74, 73, 74, 73, 80, 63, 83, 78, 165, 82, 78, 73, 76, 86, 70, 61, 118, 136, 172, 69, 75, 74, 71, 87, 76, 83, 80, 162, 78, 72, 74, 66, 74, 82, 67, 82, 120, 123, 77, 76, 76, 90, 82, 71, 72, 71, 74, 109, 77, 71, 75, 66, 99, 73, 83, 114, 134, 80, 76, 79, 77, 70, 76, 72, 66, 125, 135, 75, 74, 71, 81, 81, 78, 79, 57, 134, 48, 76, 75, 86, 76, 79, 72, 79, 107, 45, 80, 77, 73, 70, 69, 81, 65, 107, 118, 100, 75, 74, 86, 85, 77, 75, 98, 82, 105, 37, 78, 76, 80, 72, 82, 67, 85, 86, 93, 77, 77, 73, 75, 73, 68, 72, 73, 125, 49, 76, 77, 76, 84, 83, 75, 84, 92, 107, 63, 74, 77, 84, 71, 82, 72, 84, 105, 64, 76, 74, 74, 76, 72, 83, 63, 45, 96, 70, 74, 75, 73, 84, 95, 74, 79, 49, 70, 78, 76, 70, 84, 72, 75, 71, 77, 77, 35, 75, 74, 73, 79, 72, 74, 82, 33, 122, 64, 75, 76, 71, 70, 80, 66, 80, 55, 61, 66, 74, 74, 80, 71, 77, 80, 71, 82, 28, 71, 74, 77, 83, 74, 61, 84, 49, 132, 61, 73, 71, 74, 70, 79, 65, 81, 54, 48, 75, 70, 82, 82, 75, 75, 70, 85, 84, 68, 73, 75, 77, 81, 70, 83, 77, 62, 48, 76, 78, 78, 76, 72, 83, 75, 71, 50, 38, 74, 74, 88, 71, 83, 79, 71, 83, 143, 57, 74, 74, 79, 84, 66, 77, 76, 92, 60, 80, 72, 74, 77, 67, 73, 82, 74, 101, 109, 80, 71, 75, 75, 78, 75, 66, 74, 156, 36, 72, 73, 91, 73, 69, 84, 72, 67, 76, 74, 74, 79, 72, 72, 76, 85, 76, 81, 96, 72, 78, 82, 75, 76, 77, 74, 75, 119, 74, 72, 71, 76, 71, 73, 80, 72, 71, 99, 77, 73, 75, 72, 80, 78, 90, 79, 17, 62, 74, 76, 83, 75, 72, 72, 78, 82, 160, 63, 72, 75, 72, 93, 76, 81, 81, 80, 57, 72, 69, 74, 84, 80, 73, 69, 82, 61, 176, 73, 75, 75, 77, 74, 84, 87, 75, 79, 71, 72, 78, 83, 86, 76, 96, 78, 78, 82, 72, 75, 75, 83, 73, 81, 80, 79, 13, 96, 74, 77, 75, 74, 72, 77, 79, 80, 80, 75, 73, 74, 78, 80, 77, 77, 79, 52, 13, 77, 74, 79, 82, 78, 82, 83, 78, 43, 85, 76, 79, 75, 74, 72, 78, 74, 71, 58, 76, 74, 82, 80, 84, 83, 66, 84, 6, 10, 74, 75, 82, 79, 73, 78, 79, 79, 47, 74, 76, 77, 81, 74, 76, 72, 89, 74, 23, 73, 75, 89, 71, 78, 82, 73, 80, 1, 26, 77, 79, 86, 79, 95, 79, 84, 75, 48, 72, 73, 82, 73, 71, 84, 75, 76, 73, 6, 73, 77, 74, 72, 80, 82, 81, 79, 12, 74, 73, 81, 77, 75, 81, 72, 93, 104, 5, 75, 75, 75, 79, 78, 63, 73, 90, 61, 0, 74, 75, 76, 72, 81, 63, 90, 78, 31, 73, 76, 76, 82, 75, 70, 80, 88, 81, 11, 73, 76, 77, 74, 77, 66, 83, 70, 73, 80, 77, 84, 83, 75, 91, 66, 90, 74, 53, 74, 76, 80, 78, 74, 63, 86, 91, 87, 67, 73, 76, 77, 76, 81, 69, 90, 74, 58, 74, 77, 77, 76, 69, 66, 76, 93, 84, 56, 73, 76, 79, 70, 70, 77, 82, 68, 76, 74, 77, 76, 80, 79, 82, 74, 89, 78, 53, 74, 76, 75, 74, 71, 90, 73, 78, 73, 44, 72, 79, 81, 74, 81, 71, 79, 88, 33, 91, 72, 74, 79, 75, 77, 75, 70, 68, 78, 68, 77, 74, 80, 75, 68, 75, 95, 72, 61, 72, 76, 81, 71, 81, 72, 73, 100, 62, 88, 77, 78, 74, 76, 74, 90, 76, 76, 59, 69, 78, 73, 86, 67, 60, 76, 87, 83, 83, 76, 75, 73, 82, 76, 80, 76, 78, 51, 88, 75, 77, 81, 82, 72, 85, 91, 108, 69, 73, 81, 78, 76, 79, 68, 68, 101, 53, 75, 72, 74, 73, 77, 68, 78, 73, 68, 67, 71, 74, 77, 74, 79, 75, 80, 73, 95, 70, 74, 77, 75, 75, 78, 77, 103, 93, 31, 72, 77, 79, 74, 77, 66, 75, 90, 84, 72, 69, 75, 75, 78, 76, 69, 82, 94, 98, 76, 77, 74, 71, 79, 75, 81, 96, 75, 65, 80, 76, 79, 77, 84, 69, 85, 77, 86, 71, 73, 75, 75, 78, 76, 73, 84, 94, 48, 92, 75, 74, 74, 82, 71, 97, 86, 69, 68, 83, 72, 72, 78, 85, 75, 87, 73, 93, 75, 71, 82, 74, 75, 82, 97, 70, 62, 46, 86, 74, 75, 73, 76, 65, 84, 72, 85, 70, 75, 74, 73, 77, 76, 69, 81, 80, 78, 86, 73, 76, 75, 76, 78, 82, 85, 75, 14, 74, 71, 73, 73, 80, 70, 87, 65, 65, 63, 70, 77, 72, 79, 78, 77, 81, 87, 44, 81, 70, 76, 73, 76, 68, 90, 84, 80, 78, 77, 77, 74, 76, 74, 79, 90, 87, 100, 74, 73, 77, 75, 76, 77, 86, 80, 75, 75, 75, 75, 75, 71, 76, 81, 82, 69, 66, 67, 79, 76, 72, 78, 78, 97, 68, 82, 69, 79, 73, 77, 70, 76, 76, 84, 80, 65, 71, 75, 70, 74, 72, 72, 75, 86, 84, 69, 83, 79, 74, 75, 76, 77, 79, 89, 81, 67, 88, 71, 76, 75, 74, 77, 87, 76, 96, 70, 78, 75, 73, 78, 79, 85, 73, 92, 89, 88, 77, 73, 73, 76, 81, 75, 68, 81, 109, 82, 74, 78, 75, 77, 84, 79, 71, 94, 80, 80, 75, 76, 73, 81, 75, 79, 85, 106, 86, 85, 74, 73, 78, 75, 75, 94, 87, 74, 84, 72, 72, 79, 76, 84, 75, 76, 88, 72, 81, 70, 75, 76, 80, 76, 79, 82, 77, 90, 74, 70, 76, 72, 83, 78, 103, 87, 75, 88, 73, 99, 74, 82, 83, 74, 80, 88, 85, 83, 76, 73, 78, 79, 86, 71, 83, 79, 86, 71, 94, 75, 75, 75, 78, 87, 85, 74, 82, 74, 71, 78, 78, 79, 80, 85, 83, 94, 79, 78, 73, 75, 70, 85, 74, 87, 78, 87, 73, 84, 75, 77, 84, 76, 81, 86, 85, 84, 74, 77, 100, 74, 83, 75, 89, 82, 93, 74, 83, 76, 68, 76, 78, 81, 82, 96, 77, 76, 91, 75, 76, 81, 80, 82, 94, 73, 87, 87, 77, 75, 81, 89, 68, 81, 85, 89, 85, 80, 67, 78, 82, 83, 79, 88, 90, 79, 94, 76, 73, 76, 87, 84, 79, 86, 85, 79, 83, 73, 74, 70, 81, 80, 81, 92, 97, 101, 82, 78, 78, 79, 82, 80, 91, 86, 80, 84, 75, 75, 76, 80, 71, 84, 87, 91, 79, 80, 76, 76, 86, 79, 95, 80, 80, 89, 81, 82, 74, 76, 75, 94, 83, 94, 89, 76, 82, 75, 75, 75, 82, 74, 79, 78, 89, 80, 80, 76, 74, 80, 81, 80, 86, 86, 85, 86, 81, 72, 70, 77, 89, 91, 88, 88, 79, 80, 73, 75, 73, 72, 84, 84, 100, 89, 83, 80, 72, 71, 77, 73, 82, 86, 84, 81, 82, 69, 73, 72, 93, 66, 83, 77, 87, 80, 80, 75, 72, 80, 77, 79, 80, 80, 89, 81, 85, 75, 71, 94, 89, 80, 78, 82, 76, 85, 75, 74, 74, 77, 88, 79, 81, 84, 77, 85, 70, 72, 81, 82, 80, 78, 83, 84, 83, 72, 74, 78, 70, 78, 80, 81, 82, 81, 80, 79, 72, 84, 81, 87, 82, 98, 84, 83, 84, 71, 73, 79, 76, 91, 82, 89, 82, 80, 71, 76, 78, 80, 79, 83, 82, 77, 82, 84, 76, 75, 78, 73, 81, 81, 82, 81, 83, 79, 72, 79, 74, 86, 80, 90, 103, 81, 78, 71, 71, 90, 80, 78, 80, 88, 77, 83, 103, 74, 82, 72, 84, 75, 82, 83, 79, 80, 73, 74, 82, 77, 65, 79, 83, 82, 80, 81, 72, 80, 84, 78, 80, 82, 86, 82, 82, 76, 73, 79, 70, 74, 81, 98, 76, 81, 84, 82, 82, 81, 77, 77, 75, 80, 82, 83, 82, 83, 85, 69, 76, 82, 84, 80, 83, 95, 76, 81, 79, 73, 81, 79, 87, 75, 83, 80, 91, 74, 74, 73, 79, 80, 72, 83, 90, 74, 79, 79, 75, 86, 79, 69, 75, 83, 76, 80, 87, 80, 79, 72, 74, 79, 74, 83, 86, 78, 79, 77, 81, 84, 73, 77, 79, 87, 75, 75, 73, 69, 83, 80, 77, 79, 88, 94, 74, 79, 76, 81, 85, 80, 80, 74, 83, 70, 70, 77, 75, 78, 90, 77, 85, 81, 79, 83, 79, 74, 86, 80, 77, 80, 88, 85, 74, 72, 67, 75, 76, 77, 85, 75, 79, 83, 78, 79, 76, 76, 79, 82, 79, 82, 77, 72, 78, 81, 76, 77, 81, 76, 80, 81, 75, 69, 83, 90, 83, 79, 80, 83, 74, 72, 72, 81, 82, 72, 70, 79, 80, 80, 78, 68, 78, 77, 80, 76, 88, 80, 75, 84, 82, 75, 85, 77, 83, 82, 80, 97, 80, 79, 83, 76, 80, 79, 75, 74, 71, 77, 88, 76, 85, 78, 79, 84, 74, 76, 75, 79, 81, 81, 73, 73, 83, 83, 70, 75, 86, 76, 75, 84, 80, 84, 79, 73, 74, 77, 79, 81, 77, 85, 83, 84, 84, 78, 88, 80, 87, 79, 74, 82, 83, 84, 84, 72, 77, 80, 78, 76, 75, 84, 83, 78, 77, 71, 91, 85, 72, 77, 80, 74, 80, 84, 79, 79, 91, 89, 78, 82, 81, 80, 82, 83, 70, 80, 81, 96, 80, 79, 91, 80, 76, 84, 76, 80, 81, 87, 85, 85, 65, 80, 91, 75, 79, 56, 82, 78, 85, 83, 81, 84, 70, 65, 69, 82, 89, 80, 82, 75, 83, 81, 75, 79, 76, 79, 85, 91, 80, 81, 80, 78, 68, 74, 80, 82, 92, 87, 80, 82, 74, 74, 68, 77, 86, 85, 80, 89, 80, 65, 92, 77, 76, 76, 80, 83, 88, 80, 79, 75, 82, 68, 77, 76, 81, 119, 90, 79, 76, 82, 78, 74, 77, 81, 83, 87, 88, 83, 71, 83, 72, 79, 71, 77, 84, 89, 82, 94, 82, 75, 67, 74, 73, 74, 75, 90, 81, 74, 84, 77, 76, 76, 74, 94, 92, 82, 96, 81, 92, 73, 77, 77, 75, 75, 88, 81, 89, 73, 78, 72, 72, 88, 79, 77, 90, 87, 75, 96, 68, 82, 79, 83, 88, 87, 79, 81, 76, 77, 68, 71, 74, 74, 78, 91, 88, 74, 88, 77, 68, 72, 70, 101, 77, 89, 78, 72, 88, 77, 73, 78, 79, 83, 88, 81, 75, 90, 78, 70, 71, 64, 83, 74, 89, 77, 75, 78, 70, 70, 74, 79, 88, 84, 83, 77, 82, 101, 72, 82, 78, 77, 74, 87, 90, 72, 80, 80, 72, 75, 71, 75, 76, 91, 77, 71, 85, 75, 71, 76, 77, 91, 84, 86, 73, 80, 79, 68, 73, 79, 74, 91, 90, 79, 81, 75, 70, 73, 75, 75, 77, 89, 91, 77, 70, 95, 67, 68, 73, 80, 81, 96, 92, 70, 88, 75, 70, 82, 81, 78, 90, 87, 73, 69, 84, 86, 73, 87, 82, 78, 91, 91, 71, 76, 86, 67, 73, 68, 83, 93, 89, 83, 75, 83, 73, 70, 77, 76, 72, 80, 91, 67, 67, 84, 75, 75, 80, 86, 77, 91, 95, 79, 96, 73, 65, 73, 73, 75, 84, 96, 88, 97, 82, 74, 67, 78, 89, 71, 81, 89, 68, 75, 76, 69, 78, 72, 85, 96, 100, 80, 83, 91, 74, 90, 81, 72, 79, 88, 92, 77, 91, 87, 74, 71, 77, 75, 82, 88, 91, 74, 91, 85, 65, 77, 77, 83, 90, 79, 84, 83, 87, 74, 68, 75, 72, 77, 87, 93, 71, 79, 98, 74, 73, 80, 76, 81, 91, 95, 78, 77, 74, 71, 76, 74, 84, 92, 91, 88, 80, 82, 80, 66, 70, 67, 70, 70, 92, 89, 79, 74, 67, 74, 83, 83, 76, 81, 84, 93, 85, 71, 77, 79, 78, 85, 89, 94, 84, 84, 94, 68, 70, 72, 72, 73, 86, 93, 84, 77, 105, 62, 76, 84, 81, 93, 76, 84, 77, 79, 71, 72, 74, 85, 85, 88, 90, 92, 79, 98, 63, 72, 80, 74, 78, 86, 89, 96, 84, 67, 66, 73, 88, 82, 77, 71, 97, 75, 82, 68, 69, 72, 84, 85, 97, 90, 91, 80, 93, 66, 78, 81, 81, 76, 72, 93, 89, 92, 68, 67, 82, 77, 81, 78, 79, 94, 81, 82, 65, 68, 81, 84, 83, 80, 87, 85, 84, 70, 65, 75, 84, 74, 77, 76, 91, 100, 83, 65, 65, 85, 79, 86, 84, 71, 87, 77, 83, 64, 72, 81, 79, 88, 82, 86, 84, 110, 71, 65, 72, 83, 82, 76, 73, 65, 81, 81, 68, 66, 69, 83, 86, 85, 71, 90, 64, 83, 66, 70, 91, 69, 77, 77, 91, 84, 82, 77, 67, 94, 74, 82, 80, 72, 86, 74, 90, 71, 66, 71, 83, 87, 85, 92, 92, 88, 89, 68, 74, 85, 68, 86, 83, 73, 75, 89, 80, 66, 78, 72, 80, 79, 76, 90, 74, 95, 71, 67, 83, 78, 83, 86, 90, 86, 87, 73, 66, 77, 79, 74, 77, 78, 81, 74, 85, 71, 66, 76, 78, 81, 88, 73, 74, 72, 83, 69, 69, 80, 77, 81, 84, 77, 80, 96, 73, 72, 78, 81, 73, 71, 76, 88, 75, 91, 73, 66, 69, 79, 79, 84, 70, 88, 83, 70, 63, 65, 81, 78, 81, 82, 75, 75, 88, 73, 66, 77, 82, 73, 76, 72, 75, 71, 87, 73, 67, 82, 75, 83, 87, 69, 82, 95, 68, 66, 72, 79, 74, 73, 84, 78, 77, 88, 66, 66, 84, 73, 75, 76, 69, 77, 87, 88], \"y\": [32, 92, 89, 88, 107, 97, 93, 102, 85, 84, 93, 91, 94, 94, 104, 97, 101, 90, 96, 88, 96, 99, 85, 98, 103, 100, 100, 98, 90, 95, 95, 89, 87, 101, 101, 104, 90, 96, 92, 91, 91, 87, 95, 100, 101, 102, 94, 102, 91, 93, 87, 87, 104, 103, 104, 99, 92, 100, 91, 97, 89, 91, 102, 106, 98, 89, 109, 90, 96, 95, 91, 92, 99, 100, 103, 94, 89, 95, 97, 88, 87, 86, 97, 98, 99, 97, 93, 82, 98, 90, 94, 102, 101, 98, 95, 107, 86, 112, 84, 90, 84, 99, 96, 105, 100, 91, 94, 101, 93, 93, 93, 101, 98, 89, 98, 84, 93, 94, 87, 97, 92, 97, 102, 105, 101, 100, 86, 84, 101, 101, 100, 103, 95, 99, 95, 100, 86, 89, 95, 96, 98, 104, 96, 101, 86, 98, 83, 106, 92, 96, 100, 104, 100, 86, 90, 90, 92, 97, 98, 100, 105, 96, 97, 92, 97, 85, 92, 98, 102, 100, 101, 94, 100, 97, 91, 88, 94, 104, 98, 102, 93, 97, 95, 93, 95, 82, 98, 93, 100, 94, 95, 100, 90, 87, 86, 100, 94, 106, 94, 94, 100, 100, 97, 85, 83, 96, 97, 99, 89, 93, 98, 92, 92, 82, 89, 92, 85, 91, 96, 94, 98, 99, 85, 81, 97, 94, 94, 91, 95, 92, 99, 96, 80, 85, 96, 89, 85, 87, 97, 98, 92, 86, 87, 97, 97, 88, 88, 101, 102, 100, 98, 87, 99, 99, 98, 96, 97, 89, 95, 93, 93, 84, 84, 101, 88, 80, 105, 97, 98, 86, 84, 86, 90, 99, 87, 101, 100, 105, 94, 94, 89, 88, 94, 97, 90, 103, 98, 94, 93, 89, 87, 93, 94, 95, 96, 101, 102, 94, 100, 88, 89, 95, 100, 91, 96, 95, 94, 95, 96, 86, 99, 93, 88, 96, 96, 101, 93, 92, 92, 89, 98, 97, 102, 98, 108, 100, 89, 101, 87, 93, 93, 88, 95, 102, 100, 98, 96, 85, 97, 88, 93, 87, 99, 103, 100, 89, 97, 86, 88, 97, 100, 99, 94, 90, 87, 95, 94, 99, 92, 96, 91, 96, 86, 93, 104, 97, 87, 89, 100, 97, 92, 89, 101, 98, 102, 99, 86, 94, 103, 91, 88, 92, 99, 97, 101, 87, 92, 83, 115, 116, 90, 88, 102, 100, 103, 87, 95, 100, 97, 99, 101, 100, 101, 95, 103, 84, 89, 97, 93, 101, 102, 96, 101, 97, 84, 101, 97, 102, 92, 95, 95, 99, 97, 99, 90, 94, 103, 97, 95, 97, 103, 89, 98, 87, 96, 119, 99, 97, 98, 98, 102, 126, 91, 87, 95, 82, 101, 94, 95, 92, 101, 99, 96, 91, 87, 93, 93, 95, 96, 104, 92, 98, 82, 93, 85, 102, 92, 88, 101, 99, 104, 98, 85, 85, 122, 111, 97, 100, 92, 88, 96, 92, 95, 70, 99, 92, 100, 91, 89, 106, 99, 105, 98, 75, 100, 97, 99, 100, 89, 101, 96, 82, 124, 94, 96, 96, 115, 97, 96, 94, 84, 103, 144, 83, 95, 87, 95, 88, 105, 95, 86, 59, 120, 105, 95, 88, 100, 91, 100, 94, 88, 60, 85, 99, 99, 91, 93, 102, 97, 88, 97, 139, 83, 96, 91, 94, 87, 101, 97, 90, 78, 132, 83, 97, 87, 95, 90, 93, 81, 90, 98, 75, 95, 90, 92, 92, 102, 117, 92, 89, 113, 104, 98, 89, 95, 88, 99, 99, 88, 127, 143, 99, 97, 89, 92, 99, 84, 84, 102, 129, 89, 90, 94, 88, 102, 104, 102, 87, 63, 148, 114, 98, 91, 94, 88, 98, 97, 88, 71, 148, 104, 93, 94, 85, 102, 103, 81, 87, 84, 113, 92, 90, 90, 98, 103, 99, 86, 72, 116, 86, 86, 89, 92, 87, 92, 86, 103, 110, 120, 101, 90, 93, 90, 103, 103, 92, 52, 113, 90, 94, 88, 92, 106, 105, 89, 85, 65, 82, 105, 90, 89, 89, 91, 96, 93, 95, 118, 92, 103, 92, 89, 90, 106, 101, 83, 62, 108, 108, 94, 87, 90, 88, 99, 89, 96, 105, 122, 102, 91, 93, 90, 93, 100, 82, 88, 118, 110, 100, 90, 91, 89, 102, 87, 85, 101, 131, 117, 97, 92, 91, 88, 99, 88, 91, 89, 129, 106, 91, 90, 90, 101, 84, 85, 66, 80, 104, 91, 90, 87, 89, 99, 95, 99, 89, 122, 61, 86, 89, 92, 85, 100, 81, 101, 68, 146, 101, 94, 89, 95, 103, 90, 79, 103, 117, 149, 85, 91, 90, 89, 107, 94, 101, 66, 144, 78, 84, 90, 84, 90, 102, 85, 98, 104, 108, 92, 92, 92, 111, 103, 89, 90, 59, 58, 96, 93, 87, 94, 85, 112, 93, 95, 102, 118, 83, 92, 95, 98, 88, 96, 90, 61, 109, 116, 91, 93, 87, 102, 102, 104, 97, 45, 124, 37, 92, 91, 105, 95, 99, 92, 98, 91, 33, 96, 93, 89, 91, 87, 99, 83, 97, 104, 86, 91, 93, 102, 104, 96, 95, 112, 72, 90, 26, 94, 92, 101, 90, 102, 85, 106, 72, 79, 92, 96, 89, 96, 92, 88, 90, 64, 113, 38, 92, 93, 95, 103, 103, 95, 100, 83, 91, 54, 90, 93, 105, 89, 102, 90, 96, 93, 49, 92, 93, 90, 97, 88, 99, 81, 39, 84, 59, 90, 91, 92, 103, 115, 92, 103, 39, 64, 93, 92, 86, 105, 86, 101, 89, 96, 67, 25, 91, 93, 92, 98, 91, 94, 100, 27, 106, 52, 91, 92, 92, 88, 100, 86, 100, 44, 39, 90, 93, 93, 99, 89, 97, 94, 90, 70, 19, 90, 93, 96, 104, 92, 81, 103, 46, 112, 51, 92, 90, 93, 90, 99, 85, 100, 44, 43, 94, 89, 101, 101, 98, 95, 89, 99, 75, 57, 92, 94, 96, 101, 90, 103, 97, 63, 44, 85, 97, 97, 95, 87, 103, 94, 90, 47, 34, 88, 93, 107, 91, 102, 99, 90, 102, 124, 44, 93, 93, 98, 104, 86, 97, 96, 97, 61, 96, 91, 93, 96, 85, 93, 101, 93, 101, 93, 99, 90, 94, 96, 97, 96, 86, 93, 140, 25, 91, 92, 110, 94, 89, 99, 91, 79, 68, 88, 93, 98, 91, 91, 97, 104, 95, 94, 77, 91, 97, 101, 96, 96, 97, 94, 93, 106, 86, 91, 90, 95, 92, 93, 99, 91, 87, 77, 96, 92, 94, 92, 99, 99, 109, 103, 19, 48, 93, 95, 102, 96, 92, 93, 97, 100, 146, 67, 91, 91, 91, 108, 95, 102, 102, 94, 43, 91, 88, 93, 103, 101, 94, 88, 102, 50, 164, 89, 94, 94, 92, 93, 105, 103, 93, 67, 90, 91, 94, 102, 107, 99, 115, 99, 94, 67, 91, 94, 94, 104, 89, 102, 99, 99, 3, 86, 90, 93, 94, 90, 91, 98, 96, 98, 68, 94, 92, 93, 97, 101, 97, 96, 100, 64, 4, 93, 93, 98, 104, 97, 103, 103, 96, 37, 97, 90, 95, 94, 93, 91, 97, 95, 91, 47, 95, 93, 101, 99, 103, 104, 85, 104, 10, 6, 90, 94, 101, 98, 92, 99, 100, 97, 34, 90, 90, 96, 100, 95, 95, 91, 110, 86, 14, 89, 94, 108, 92, 99, 103, 92, 100, 0, 21, 90, 95, 105, 100, 114, 100, 104, 97, 38, 91, 92, 101, 92, 92, 100, 94, 96, 87, 6, 89, 96, 93, 92, 101, 100, 100, 99, 4, 86, 89, 100, 97, 95, 99, 86, 112, 98, 0, 94, 94, 94, 98, 99, 81, 93, 111, 76, 3, 93, 94, 95, 91, 102, 81, 109, 98, 22, 89, 95, 95, 101, 95, 88, 96, 107, 93, 6, 92, 95, 93, 93, 98, 84, 103, 90, 83, 92, 93, 103, 96, 94, 112, 84, 110, 93, 42, 93, 95, 99, 97, 94, 81, 106, 113, 103, 79, 92, 95, 93, 95, 102, 87, 109, 94, 48, 93, 93, 96, 95, 89, 84, 94, 113, 96, 47, 92, 95, 95, 89, 91, 95, 102, 89, 89, 85, 93, 95, 93, 98, 103, 92, 108, 98, 47, 93, 95, 94, 93, 91, 108, 93, 97, 92, 48, 91, 98, 97, 93, 102, 89, 99, 108, 37, 107, 88, 93, 98, 94, 98, 95, 89, 91, 65, 87, 96, 93, 99, 96, 86, 95, 116, 87, 79, 91, 95, 97, 90, 102, 92, 91, 114, 53, 109, 93, 94, 95, 95, 92, 111, 94, 94, 55, 89, 94, 92, 105, 86, 78, 96, 108, 96, 104, 92, 94, 92, 101, 99, 100, 94, 102, 45, 108, 91, 93, 102, 101, 90, 106, 112, 124, 85, 92, 97, 97, 95, 98, 88, 86, 120, 55, 96, 88, 93, 92, 96, 86, 99, 92, 86, 57, 92, 90, 93, 90, 98, 91, 101, 94, 105, 89, 93, 93, 94, 94, 98, 97, 121, 109, 18, 93, 93, 95, 93, 96, 84, 96, 109, 102, 83, 88, 91, 94, 92, 95, 87, 103, 115, 111, 97, 93, 93, 90, 98, 94, 101, 115, 93, 50, 101, 92, 95, 93, 103, 87, 107, 98, 106, 85, 92, 91, 94, 91, 95, 93, 103, 110, 38, 113, 91, 93, 93, 101, 89, 118, 105, 87, 66, 105, 88, 91, 91, 104, 91, 109, 94, 113, 94, 90, 101, 93, 94, 98, 117, 89, 82, 34, 107, 93, 94, 92, 96, 83, 105, 90, 105, 89, 97, 90, 92, 93, 97, 88, 102, 100, 90, 108, 92, 92, 94, 92, 99, 102, 104, 94, 15, 95, 90, 92, 92, 100, 88, 108, 85, 84, 82, 91, 93, 91, 95, 99, 97, 100, 108, 53, 100, 89, 92, 92, 95, 86, 111, 103, 98, 96, 98, 93, 93, 92, 95, 98, 111, 108, 118, 93, 92, 93, 94, 92, 98, 102, 99, 96, 92, 96, 94, 94, 90, 95, 99, 103, 87, 84, 86, 100, 92, 91, 94, 99, 116, 86, 103, 88, 95, 92, 93, 89, 92, 97, 105, 99, 83, 90, 96, 89, 93, 91, 93, 93, 107, 105, 88, 102, 99, 90, 94, 92, 98, 98, 108, 103, 85, 102, 90, 95, 94, 88, 95, 108, 95, 115, 85, 100, 91, 92, 94, 100, 104, 94, 114, 108, 102, 96, 89, 92, 92, 102, 94, 88, 102, 129, 103, 93, 97, 91, 93, 100, 99, 91, 115, 96, 101, 94, 94, 92, 97, 94, 99, 102, 125, 105, 106, 93, 92, 94, 94, 97, 113, 108, 90, 105, 91, 91, 92, 92, 105, 96, 98, 109, 93, 107, 89, 94, 92, 100, 95, 100, 106, 96, 109, 93, 89, 92, 88, 102, 99, 122, 108, 88, 107, 92, 118, 90, 98, 104, 95, 100, 107, 104, 104, 95, 92, 94, 98, 105, 89, 104, 100, 107, 90, 113, 91, 91, 98, 99, 108, 106, 92, 103, 93, 90, 97, 94, 98, 101, 106, 102, 113, 100, 97, 89, 91, 83, 106, 93, 108, 94, 108, 92, 103, 88, 93, 105, 97, 103, 107, 106, 105, 94, 96, 116, 90, 102, 97, 106, 101, 114, 93, 103, 92, 84, 99, 98, 100, 103, 111, 103, 95, 110, 91, 92, 102, 101, 108, 113, 92, 108, 107, 96, 91, 95, 110, 86, 102, 101, 110, 106, 102, 86, 91, 103, 104, 100, 109, 111, 101, 109, 98, 89, 95, 106, 103, 100, 105, 105, 100, 105, 92, 90, 90, 102, 99, 102, 112, 118, 118, 104, 90, 91, 100, 103, 101, 112, 107, 101, 106, 94, 91, 95, 99, 90, 105, 106, 112, 100, 102, 95, 92, 106, 100, 116, 101, 101, 111, 98, 104, 88, 90, 96, 114, 104, 113, 111, 97, 104, 93, 91, 95, 103, 92, 100, 97, 110, 101, 102, 92, 90, 101, 102, 101, 107, 107, 107, 105, 100, 88, 89, 96, 108, 112, 107, 110, 100, 102, 92, 91, 93, 93, 103, 105, 110, 111, 104, 102, 91, 90, 98, 94, 103, 105, 106, 102, 104, 88, 89, 91, 112, 85, 104, 103, 108, 101, 102, 94, 88, 100, 98, 100, 101, 101, 111, 102, 107, 94, 90, 113, 109, 101, 97, 103, 97, 107, 93, 90, 95, 98, 104, 101, 102, 106, 99, 106, 89, 93, 97, 103, 101, 100, 99, 106, 105, 91, 88, 98, 91, 100, 101, 103, 104, 103, 102, 93, 91, 98, 102, 107, 104, 113, 106, 105, 105, 90, 94, 98, 97, 112, 104, 106, 104, 102, 90, 92, 98, 101, 93, 105, 103, 99, 104, 106, 92, 94, 97, 94, 102, 103, 107, 103, 105, 100, 88, 100, 95, 107, 101, 110, 118, 103, 100, 90, 90, 106, 101, 97, 101, 109, 99, 104, 124, 93, 103, 93, 105, 96, 104, 97, 101, 102, 92, 93, 103, 98, 86, 100, 104, 104, 102, 103, 91, 99, 100, 99, 100, 104, 103, 104, 103, 97, 92, 100, 94, 94, 102, 114, 95, 103, 106, 101, 103, 102, 98, 93, 96, 101, 104, 105, 104, 105, 106, 93, 97, 103, 106, 102, 105, 116, 95, 102, 101, 94, 101, 100, 102, 99, 105, 102, 113, 94, 95, 92, 98, 101, 93, 104, 111, 95, 100, 100, 96, 104, 100, 90, 96, 104, 95, 101, 101, 101, 100, 86, 95, 100, 95, 105, 107, 99, 99, 98, 100, 105, 94, 98, 100, 108, 96, 96, 94, 90, 100, 101, 98, 100, 109, 113, 95, 99, 97, 100, 104, 101, 101, 95, 105, 91, 91, 98, 96, 98, 111, 98, 106, 102, 98, 104, 95, 95, 107, 104, 98, 101, 109, 107, 95, 93, 88, 96, 95, 96, 106, 96, 100, 104, 100, 100, 98, 97, 98, 103, 100, 103, 98, 91, 99, 100, 97, 98, 100, 97, 101, 102, 96, 90, 104, 111, 104, 99, 101, 105, 95, 93, 93, 103, 103, 93, 91, 98, 101, 101, 99, 89, 97, 98, 102, 97, 107, 99, 96, 105, 103, 96, 107, 98, 105, 103, 100, 118, 102, 100, 104, 95, 101, 101, 96, 95, 90, 98, 109, 97, 106, 99, 100, 106, 95, 98, 96, 100, 102, 102, 94, 95, 105, 105, 91, 96, 107, 97, 96, 105, 97, 105, 100, 97, 96, 98, 100, 102, 98, 107, 104, 105, 106, 99, 109, 99, 108, 100, 95, 103, 104, 105, 108, 92, 93, 101, 99, 97, 97, 105, 105, 102, 98, 92, 112, 106, 93, 98, 102, 94, 102, 106, 100, 100, 110, 110, 99, 104, 100, 101, 104, 107, 90, 99, 102, 117, 101, 101, 112, 102, 100, 105, 97, 101, 102, 108, 107, 107, 85, 101, 113, 96, 99, 77, 103, 99, 107, 104, 102, 106, 91, 86, 90, 103, 111, 101, 104, 96, 104, 103, 96, 100, 100, 100, 106, 113, 102, 102, 102, 102, 88, 96, 101, 103, 113, 109, 101, 103, 98, 95, 88, 98, 107, 107, 102, 111, 102, 86, 114, 98, 97, 100, 101, 104, 110, 104, 100, 96, 106, 88, 99, 97, 103, 140, 112, 100, 96, 106, 99, 95, 101, 102, 102, 106, 110, 105, 92, 105, 92, 100, 92, 98, 106, 111, 103, 116, 103, 96, 87, 95, 92, 95, 96, 112, 103, 95, 109, 98, 97, 100, 95, 113, 107, 103, 118, 102, 114, 93, 98, 98, 96, 96, 110, 102, 110, 94, 99, 92, 93, 107, 98, 98, 112, 109, 96, 121, 89, 103, 100, 104, 110, 109, 100, 103, 97, 98, 88, 92, 93, 95, 99, 113, 109, 95, 109, 98, 89, 96, 89, 120, 94, 111, 99, 93, 110, 97, 94, 99, 100, 105, 110, 102, 96, 111, 99, 90, 92, 83, 104, 95, 111, 98, 96, 103, 91, 91, 98, 95, 107, 106, 104, 98, 103, 123, 92, 103, 99, 98, 95, 109, 111, 93, 101, 101, 92, 96, 85, 94, 95, 113, 98, 92, 110, 96, 92, 97, 98, 113, 106, 107, 94, 101, 104, 88, 94, 98, 95, 112, 112, 100, 102, 100, 91, 94, 96, 96, 98, 111, 113, 98, 91, 116, 87, 89, 93, 101, 103, 112, 114, 91, 112, 96, 89, 101, 102, 99, 112, 109, 94, 93, 109, 107, 94, 108, 103, 99, 113, 113, 92, 97, 107, 87, 94, 89, 104, 113, 111, 105, 96, 107, 94, 84, 98, 97, 93, 102, 113, 88, 91, 109, 95, 96, 101, 107, 99, 108, 117, 100, 120, 94, 85, 92, 94, 96, 104, 118, 109, 121, 107, 95, 88, 99, 110, 92, 103, 111, 89, 97, 97, 89, 99, 93, 106, 118, 122, 102, 105, 115, 95, 106, 100, 93, 100, 110, 114, 98, 115, 112, 95, 92, 98, 96, 102, 108, 113, 95, 113, 106, 85, 96, 98, 104, 110, 100, 106, 105, 112, 95, 89, 96, 93, 98, 109, 115, 92, 104, 119, 94, 94, 102, 97, 102, 108, 117, 100, 102, 95, 90, 95, 95, 105, 112, 112, 109, 105, 107, 99, 85, 91, 88, 92, 92, 114, 111, 101, 96, 86, 93, 104, 105, 98, 102, 106, 115, 107, 90, 96, 100, 99, 107, 111, 116, 106, 105, 119, 87, 89, 93, 93, 94, 108, 115, 106, 98, 127, 81, 97, 105, 102, 115, 97, 106, 98, 104, 90, 91, 95, 106, 107, 110, 112, 112, 101, 120, 82, 91, 101, 96, 99, 108, 111, 117, 106, 86, 85, 94, 109, 103, 99, 92, 117, 96, 107, 87, 88, 93, 105, 106, 119, 112, 113, 101, 115, 85, 97, 102, 102, 97, 93, 115, 112, 114, 87, 86, 103, 98, 103, 100, 100, 111, 102, 107, 84, 87, 102, 106, 104, 102, 109, 106, 104, 89, 84, 96, 105, 95, 98, 97, 113, 121, 108, 84, 84, 106, 100, 108, 105, 93, 109, 98, 105, 83, 91, 102, 99, 109, 103, 108, 107, 132, 90, 84, 93, 104, 103, 97, 93, 80, 102, 106, 87, 82, 90, 106, 107, 107, 92, 112, 85, 108, 85, 89, 102, 90, 98, 99, 113, 106, 108, 92, 83, 115, 95, 104, 101, 92, 105, 95, 107, 90, 85, 92, 105, 108, 108, 113, 113, 105, 105, 87, 93, 102, 89, 107, 105, 92, 96, 109, 99, 82, 99, 93, 102, 100, 97, 112, 95, 117, 90, 86, 104, 99, 104, 108, 111, 108, 109, 92, 85, 96, 98, 96, 98, 100, 100, 95, 110, 90, 82, 97, 100, 102, 110, 94, 95, 93, 108, 88, 88, 101, 93, 102, 106, 98, 101, 116, 92, 88, 99, 102, 94, 92, 97, 107, 96, 108, 92, 85, 90, 100, 100, 106, 91, 110, 108, 91, 82, 84, 100, 94, 102, 104, 94, 96, 108, 92, 82, 98, 103, 94, 97, 93, 96, 92, 109, 92, 86, 103, 89, 104, 109, 89, 104, 115, 89, 85, 91, 100, 95, 94, 106, 97, 98, 113, 85, 84, 100, 94, 96, 97, 89, 96, 108, 109], \"z\": [13, 70, 65, 64, 81, 69, 65, 74, 62, 64, 67, 65, 70, 68, 76, 69, 74, 63, 70, 67, 69, 75, 61, 72, 75, 72, 72, 71, 66, 71, 69, 65, 63, 75, 73, 77, 66, 73, 72, 65, 65, 63, 69, 72, 73, 74, 67, 76, 68, 67, 63, 63, 78, 75, 76, 71, 65, 74, 63, 71, 65, 65, 74, 78, 71, 65, 86, 68, 72, 71, 67, 66, 71, 72, 75, 67, 70, 73, 67, 64, 61, 60, 69, 70, 75, 73, 73, 56, 72, 66, 68, 74, 73, 70, 68, 81, 63, 91, 60, 66, 58, 71, 68, 77, 73, 67, 70, 73, 69, 65, 65, 73, 71, 65, 73, 64, 67, 68, 63, 71, 64, 69, 74, 78, 75, 75, 66, 60, 71, 75, 72, 75, 67, 72, 67, 74, 60, 65, 69, 68, 70, 77, 72, 75, 63, 80, 59, 82, 66, 68, 72, 76, 73, 64, 63, 66, 69, 70, 71, 74, 73, 69, 70, 70, 73, 61, 68, 71, 72, 70, 73, 67, 72, 70, 67, 64, 67, 77, 72, 74, 67, 70, 76, 66, 71, 59, 71, 65, 74, 68, 68, 73, 68, 63, 62, 73, 67, 83, 68, 66, 73, 72, 72, 61, 60, 69, 70, 73, 66, 67, 71, 70, 68, 58, 65, 65, 63, 65, 73, 66, 70, 72, 61, 57, 70, 67, 71, 69, 69, 65, 75, 69, 56, 62, 69, 62, 59, 64, 70, 72, 70, 62, 63, 73, 70, 65, 66, 73, 71, 72, 71, 63, 75, 72, 71, 70, 74, 63, 68, 69, 66, 60, 60, 74, 62, 54, 76, 70, 72, 64, 60, 62, 63, 72, 64, 73, 72, 74, 75, 67, 65, 65, 67, 70, 64, 75, 72, 69, 71, 65, 63, 69, 67, 65, 70, 73, 69, 66, 73, 64, 65, 68, 73, 68, 64, 69, 67, 65, 72, 60, 73, 67, 63, 68, 68, 73, 68, 66, 68, 65, 66, 69, 74, 70, 80, 72, 62, 73, 63, 68, 69, 60, 67, 74, 69, 72, 69, 61, 73, 64, 65, 61, 71, 75, 72, 65, 69, 62, 61, 69, 72, 71, 66, 62, 61, 68, 70, 73, 64, 70, 63, 68, 58, 65, 78, 71, 63, 65, 70, 69, 65, 61, 73, 70, 75, 71, 62, 68, 76, 63, 60, 64, 68, 71, 74, 63, 66, 61, 87, 91, 62, 60, 74, 73, 77, 63, 71, 74, 69, 71, 73, 72, 73, 68, 75, 58, 65, 72, 65, 73, 74, 65, 75, 71, 60, 77, 79, 74, 66, 67, 67, 71, 70, 71, 66, 68, 82, 69, 67, 69, 72, 63, 71, 63, 70, 115, 73, 69, 70, 70, 74, 92, 65, 63, 71, 75, 73, 66, 67, 64, 73, 72, 68, 67, 62, 74, 65, 67, 68, 73, 66, 71, 58, 68, 94, 89, 64, 62, 75, 69, 73, 70, 61, 68, 125, 91, 69, 76, 61, 62, 68, 68, 70, 69, 97, 64, 74, 65, 63, 75, 71, 81, 75, 82, 79, 69, 73, 69, 63, 73, 69, 58, 122, 97, 65, 68, 89, 71, 68, 67, 60, 79, 150, 84, 67, 61, 72, 64, 74, 67, 62, 48, 125, 79, 67, 66, 72, 65, 72, 67, 64, 63, 90, 71, 72, 65, 67, 74, 66, 64, 74, 145, 90, 68, 65, 66, 65, 70, 70, 66, 80, 135, 54, 69, 72, 69, 64, 68, 57, 67, 100, 82, 67, 65, 66, 68, 71, 89, 68, 80, 117, 102, 70, 63, 72, 62, 71, 72, 64, 128, 146, 71, 71, 63, 66, 71, 57, 60, 79, 135, 95, 62, 68, 65, 74, 73, 74, 63, 73, 151, 103, 70, 65, 71, 62, 70, 70, 64, 70, 153, 76, 68, 68, 59, 74, 72, 57, 59, 91, 120, 64, 64, 64, 74, 72, 72, 60, 75, 120, 76, 60, 63, 66, 63, 64, 60, 77, 113, 126, 76, 66, 67, 66, 75, 75, 68, 53, 116, 90, 68, 62, 66, 80, 74, 62, 59, 68, 86, 75, 66, 63, 63, 67, 68, 67, 69, 123, 99, 73, 66, 63, 66, 74, 73, 59, 65, 112, 108, 68, 61, 64, 62, 68, 63, 70, 105, 126, 75, 67, 67, 64, 70, 72, 58, 62, 120, 116, 72, 64, 65, 63, 71, 60, 59, 104, 135, 116, 71, 66, 65, 65, 71, 62, 65, 94, 131, 78, 65, 64, 62, 73, 56, 61, 60, 77, 115, 65, 64, 61, 63, 68, 68, 73, 92, 124, 60, 62, 63, 66, 63, 72, 55, 75, 69, 148, 71, 68, 63, 65, 71, 62, 53, 106, 121, 155, 59, 65, 64, 63, 79, 68, 75, 66, 144, 68, 60, 64, 58, 64, 74, 59, 69, 105, 115, 69, 66, 65, 80, 70, 63, 64, 61, 59, 90, 67, 61, 66, 57, 86, 65, 71, 104, 121, 62, 66, 69, 67, 62, 68, 64, 57, 110, 122, 65, 65, 60, 71, 71, 69, 71, 47, 125, 41, 66, 65, 77, 67, 71, 64, 68, 92, 33, 69, 67, 63, 60, 61, 73, 57, 98, 104, 86, 65, 65, 75, 76, 68, 67, 87, 73, 93, 30, 68, 66, 70, 64, 74, 59, 75, 72, 78, 69, 68, 62, 65, 64, 60, 64, 65, 113, 42, 66, 67, 67, 75, 75, 67, 74, 84, 92, 57, 64, 67, 74, 63, 74, 64, 76, 93, 52, 66, 65, 63, 66, 62, 73, 55, 39, 86, 65, 64, 65, 64, 75, 87, 66, 71, 38, 66, 70, 66, 60, 74, 61, 66, 63, 68, 66, 33, 65, 65, 64, 70, 63, 66, 74, 27, 109, 64, 65, 66, 61, 62, 72, 58, 72, 48, 51, 64, 65, 65, 71, 65, 69, 69, 62, 72, 20, 62, 65, 68, 73, 66, 54, 75, 39, 113, 60, 64, 62, 65, 63, 71, 57, 72, 43, 40, 66, 61, 73, 73, 72, 68, 61, 74, 80, 61, 64, 66, 68, 74, 62, 75, 69, 49, 43, 66, 69, 69, 67, 64, 75, 66, 62, 40, 33, 65, 65, 79, 64, 74, 71, 62, 72, 130, 51, 65, 65, 70, 76, 58, 69, 68, 77, 53, 60, 63, 65, 68, 59, 65, 71, 65, 93, 93, 71, 62, 66, 65, 67, 65, 58, 61, 141, 29, 63, 64, 82, 63, 61, 70, 63, 57, 65, 63, 65, 70, 63, 61, 66, 76, 65, 74, 79, 63, 69, 73, 65, 68, 69, 66, 67, 100, 66, 63, 62, 67, 61, 65, 67, 63, 61, 80, 68, 64, 66, 64, 67, 66, 81, 67, 16, 48, 65, 67, 74, 63, 64, 62, 69, 74, 146, 53, 63, 62, 61, 79, 67, 71, 71, 69, 43, 63, 60, 63, 73, 70, 63, 60, 74, 46, 168, 62, 64, 64, 63, 65, 74, 74, 67, 69, 60, 63, 65, 72, 76, 70, 85, 68, 65, 70, 63, 64, 64, 71, 63, 71, 71, 71, 2, 85, 63, 64, 64, 61, 63, 67, 62, 72, 72, 66, 64, 63, 67, 70, 69, 66, 69, 42, 9, 66, 63, 68, 68, 69, 72, 68, 70, 39, 75, 64, 66, 64, 63, 63, 67, 64, 64, 51, 67, 65, 71, 69, 73, 73, 57, 76, 11, 5, 63, 64, 71, 68, 64, 68, 67, 71, 41, 61, 64, 66, 70, 64, 67, 61, 79, 62, 19, 62, 64, 78, 61, 68, 72, 64, 72, 7, 17, 64, 66, 75, 69, 86, 69, 76, 61, 46, 63, 64, 71, 62, 61, 73, 64, 68, 54, 8, 62, 66, 63, 65, 68, 74, 70, 71, 15, 62, 60, 70, 69, 67, 73, 61, 84, 102, 3, 66, 64, 64, 70, 68, 55, 65, 80, 45, 0, 65, 64, 67, 63, 71, 55, 79, 70, 25, 60, 65, 65, 71, 67, 62, 70, 75, 71, 13, 64, 65, 64, 65, 67, 58, 75, 62, 59, 70, 64, 73, 70, 66, 81, 58, 75, 61, 48, 65, 65, 69, 67, 66, 55, 78, 77, 77, 55, 64, 65, 64, 67, 71, 61, 79, 66, 47, 63, 64, 66, 65, 61, 58, 68, 78, 72, 52, 64, 65, 66, 61, 60, 69, 74, 58, 61, 53, 64, 65, 67, 70, 72, 66, 78, 70, 51, 65, 65, 64, 63, 63, 82, 66, 67, 60, 31, 63, 68, 68, 65, 71, 63, 71, 80, 22, 78, 59, 63, 70, 66, 67, 68, 61, 62, 72, 59, 66, 63, 69, 65, 60, 67, 83, 68, 41, 63, 65, 68, 62, 71, 64, 67, 91, 58, 76, 66, 65, 62, 65, 66, 80, 68, 68, 54, 61, 67, 64, 77, 58, 52, 68, 77, 70, 71, 65, 66, 64, 73, 70, 72, 70, 68, 45, 80, 64, 64, 71, 71, 64, 75, 81, 97, 49, 64, 70, 69, 67, 70, 61, 62, 90, 44, 63, 61, 65, 64, 68, 60, 68, 64, 60, 58, 61, 63, 64, 63, 70, 65, 70, 63, 80, 61, 65, 66, 66, 66, 70, 69, 95, 83, 25, 60, 66, 66, 65, 66, 58, 65, 79, 76, 49, 60, 64, 66, 66, 67, 61, 70, 84, 83, 64, 66, 65, 62, 70, 66, 73, 87, 67, 55, 68, 65, 66, 67, 73, 61, 71, 67, 78, 62, 64, 64, 66, 65, 67, 65, 73, 84, 37, 80, 64, 65, 65, 71, 63, 87, 73, 61, 53, 69, 61, 63, 65, 76, 65, 73, 63, 85, 62, 62, 73, 65, 66, 71, 89, 59, 54, 44, 74, 63, 66, 64, 68, 57, 74, 64, 68, 61, 61, 63, 64, 66, 66, 58, 69, 72, 66, 72, 64, 65, 66, 65, 68, 74, 72, 62, 7, 62, 60, 64, 64, 72, 62, 75, 57, 56, 54, 60, 66, 63, 68, 68, 69, 72, 77, 34, 68, 61, 65, 64, 67, 60, 80, 75, 72, 70, 65, 66, 65, 65, 64, 70, 78, 75, 94, 65, 64, 66, 66, 65, 67, 75, 69, 63, 60, 63, 64, 66, 62, 67, 73, 72, 61, 60, 58, 67, 65, 63, 67, 68, 84, 60, 70, 60, 66, 64, 66, 61, 65, 66, 74, 69, 57, 60, 63, 59, 65, 63, 62, 67, 74, 74, 58, 74, 71, 63, 66, 65, 67, 70, 80, 67, 59, 76, 62, 67, 66, 62, 69, 77, 67, 87, 56, 64, 64, 64, 67, 69, 74, 61, 78, 76, 76, 68, 62, 64, 65, 71, 64, 60, 69, 101, 70, 65, 69, 64, 66, 73, 71, 63, 82, 67, 68, 66, 68, 64, 70, 64, 71, 70, 95, 75, 73, 65, 64, 67, 66, 61, 85, 75, 64, 72, 63, 63, 66, 65, 74, 65, 62, 76, 62, 72, 61, 66, 65, 72, 65, 69, 72, 66, 79, 65, 59, 65, 61, 74, 68, 92, 75, 68, 75, 64, 90, 63, 71, 73, 64, 73, 77, 74, 71, 65, 64, 67, 70, 75, 63, 71, 69, 74, 62, 81, 64, 64, 69, 68, 77, 73, 68, 70, 65, 60, 69, 67, 68, 68, 73, 72, 83, 67, 65, 62, 64, 57, 73, 65, 75, 67, 75, 64, 73, 62, 66, 74, 66, 67, 74, 73, 72, 59, 68, 89, 63, 72, 61, 74, 71, 81, 65, 68, 65, 57, 70, 70, 68, 70, 82, 68, 67, 78, 64, 65, 71, 70, 73, 83, 62, 75, 72, 68, 64, 69, 77, 60, 69, 72, 77, 73, 64, 58, 65, 72, 71, 67, 76, 78, 63, 78, 60, 62, 67, 74, 71, 67, 73, 77, 67, 67, 64, 63, 62, 69, 69, 69, 77, 85, 86, 66, 66, 65, 69, 70, 68, 79, 74, 68, 68, 64, 64, 67, 67, 62, 72, 78, 79, 67, 64, 67, 65, 78, 67, 83, 68, 68, 73, 66, 66, 62, 64, 65, 79, 71, 81, 73, 64, 66, 67, 64, 67, 70, 66, 67, 67, 77, 68, 64, 65, 63, 70, 69, 68, 74, 74, 69, 73, 68, 61, 61, 64, 78, 79, 75, 72, 67, 64, 64, 64, 65, 60, 73, 72, 85, 73, 71, 64, 61, 62, 67, 61, 70, 73, 70, 69, 66, 60, 62, 63, 80, 57, 71, 66, 75, 68, 64, 66, 61, 72, 65, 67, 68, 68, 73, 69, 69, 62, 62, 81, 74, 68, 65, 70, 64, 69, 67, 63, 64, 65, 77, 63, 69, 68, 61, 73, 61, 62, 68, 70, 70, 62, 70, 68, 67, 61, 63, 70, 58, 64, 68, 65, 66, 65, 64, 67, 63, 75, 69, 79, 66, 84, 68, 67, 72, 62, 63, 68, 64, 79, 68, 72, 66, 64, 60, 66, 70, 68, 67, 69, 70, 61, 66, 68, 63, 64, 67, 61, 71, 65, 67, 65, 69, 67, 61, 69, 62, 74, 68, 75, 89, 65, 62, 60, 60, 79, 68, 69, 68, 76, 61, 71, 91, 65, 72, 62, 72, 65, 66, 71, 63, 64, 62, 63, 70, 65, 55, 67, 71, 66, 64, 65, 59, 67, 73, 66, 72, 66, 71, 66, 72, 64, 64, 69, 62, 66, 69, 85, 63, 65, 68, 71, 72, 69, 65, 66, 65, 68, 66, 67, 66, 69, 75, 61, 64, 72, 68, 64, 67, 85, 65, 69, 65, 61, 73, 67, 73, 63, 67, 64, 77, 59, 64, 62, 70, 68, 60, 71, 78, 64, 67, 69, 65, 80, 69, 59, 63, 71, 65, 68, 75, 70, 69, 60, 62, 67, 62, 67, 74, 66, 71, 67, 70, 74, 63, 65, 67, 75, 65, 63, 63, 59, 66, 70, 65, 67, 76, 83, 62, 71, 66, 70, 76, 68, 68, 62, 69, 58, 58, 65, 65, 63, 80, 65, 73, 69, 68, 71, 66, 64, 76, 72, 67, 68, 76, 71, 62, 60, 57, 65, 65, 68, 73, 63, 67, 71, 64, 67, 62, 66, 66, 72, 67, 70, 65, 61, 66, 68, 66, 67, 72, 64, 68, 69, 63, 57, 71, 78, 73, 64, 70, 69, 62, 60, 60, 67, 70, 62, 60, 66, 70, 68, 66, 56, 67, 65, 66, 66, 77, 71, 63, 72, 70, 65, 69, 65, 67, 72, 63, 87, 64, 67, 71, 65, 68, 65, 65, 64, 62, 67, 76, 64, 75, 66, 67, 70, 64, 62, 65, 67, 69, 69, 61, 59, 67, 67, 58, 63, 76, 64, 63, 72, 65, 72, 69, 63, 60, 67, 69, 71, 65, 69, 71, 74, 68, 66, 76, 71, 75, 67, 62, 70, 71, 72, 74, 64, 64, 70, 66, 64, 61, 72, 69, 68, 67, 59, 81, 75, 60, 65, 66, 66, 66, 68, 67, 67, 80, 77, 66, 68, 68, 68, 66, 73, 62, 67, 71, 84, 68, 63, 79, 63, 66, 74, 66, 68, 69, 75, 69, 69, 58, 68, 75, 63, 64, 46, 70, 66, 69, 71, 69, 68, 60, 55, 59, 72, 75, 68, 66, 63, 71, 65, 63, 67, 66, 67, 73, 74, 63, 69, 66, 68, 60, 58, 70, 70, 80, 71, 68, 70, 64, 64, 60, 67, 76, 69, 63, 72, 66, 55, 76, 65, 64, 64, 68, 71, 71, 70, 67, 65, 72, 60, 61, 66, 65, 107, 74, 67, 68, 72, 66, 64, 69, 69, 70, 74, 71, 67, 61, 66, 64, 67, 61, 67, 68, 73, 70, 78, 70, 63, 59, 64, 64, 62, 63, 73, 65, 64, 70, 65, 66, 68, 64, 81, 76, 70, 80, 69, 76, 65, 65, 67, 65, 63, 71, 69, 79, 61, 66, 64, 62, 79, 66, 65, 73, 73, 65, 82, 56, 72, 69, 73, 74, 71, 67, 67, 64, 65, 60, 61, 65, 62, 66, 74, 76, 64, 76, 65, 58, 64, 61, 88, 62, 72, 66, 60, 71, 69, 61, 68, 69, 69, 72, 69, 65, 78, 66, 62, 61, 55, 71, 62, 72, 65, 65, 64, 58, 60, 66, 69, 75, 68, 71, 67, 70, 87, 64, 70, 68, 65, 62, 70, 78, 62, 68, 68, 64, 65, 60, 62, 63, 74, 67, 61, 71, 63, 59, 66, 67, 75, 68, 74, 63, 68, 65, 60, 63, 70, 62, 79, 73, 67, 71, 61, 60, 63, 63, 65, 67, 73, 74, 67, 60, 83, 59, 58, 65, 68, 64, 76, 75, 60, 80, 63, 61, 69, 71, 66, 74, 70, 63, 61, 70, 76, 63, 75, 72, 66, 75, 74, 61, 66, 74, 59, 63, 58, 71, 76, 72, 69, 65, 75, 61, 58, 65, 66, 62, 64, 74, 57, 57, 70, 67, 65, 70, 74, 63, 72, 78, 69, 86, 61, 57, 60, 63, 63, 67, 80, 76, 87, 68, 64, 57, 66, 79, 61, 65, 72, 58, 61, 64, 61, 68, 60, 73, 80, 86, 63, 69, 79, 62, 79, 68, 62, 69, 72, 75, 67, 79, 73, 64, 61, 65, 63, 74, 71, 74, 64, 77, 73, 57, 64, 67, 71, 73, 67, 70, 67, 73, 62, 58, 63, 62, 67, 71, 76, 61, 65, 86, 66, 63, 66, 64, 69, 72, 78, 62, 63, 62, 62, 63, 64, 72, 75, 79, 78, 66, 68, 71, 57, 58, 55, 54, 54, 75, 72, 62, 58, 58, 63, 71, 66, 60, 71, 68, 77, 69, 62, 68, 67, 66, 69, 72, 80, 68, 72, 80, 59, 61, 60, 62, 61, 70, 76, 70, 65, 89, 53, 64, 72, 69, 79, 66, 68, 67, 65, 62, 63, 62, 73, 69, 72, 73, 77, 62, 82, 54, 61, 68, 60, 66, 70, 73, 84, 70, 58, 57, 61, 76, 70, 63, 61, 82, 63, 68, 59, 60, 60, 72, 73, 81, 76, 75, 68, 77, 57, 67, 69, 69, 64, 62, 77, 70, 75, 59, 58, 70, 65, 65, 64, 67, 79, 69, 68, 56, 57, 69, 70, 71, 64, 73, 73, 76, 61, 56, 63, 72, 62, 67, 66, 75, 88, 69, 56, 56, 73, 67, 70, 72, 57, 70, 65, 67, 55, 61, 69, 71, 76, 72, 70, 65, 96, 62, 56, 60, 71, 70, 64, 65, 51, 69, 67, 57, 55, 57, 64, 74, 69, 61, 74, 54, 69, 57, 61, 72, 57, 65, 60, 77, 70, 69, 63, 56, 82, 62, 66, 70, 64, 77, 62, 71, 62, 57, 59, 67, 75, 66, 82, 80, 69, 76, 59, 61, 70, 58, 74, 66, 64, 63, 72, 69, 55, 66, 60, 66, 69, 66, 74, 64, 79, 62, 58, 71, 68, 71, 69, 78, 70, 71, 62, 57, 64, 66, 60, 67, 64, 72, 62, 71, 60, 55, 64, 62, 69, 74, 63, 62, 62, 69, 60, 58, 68, 66, 69, 67, 67, 68, 79, 62, 61, 66, 69, 61, 61, 64, 79, 65, 72, 64, 57, 57, 69, 67, 68, 60, 71, 69, 60, 54, 56, 68, 68, 69, 65, 66, 63, 71, 62, 55, 65, 70, 63, 66, 62, 63, 61, 71, 64, 58, 70, 64, 71, 70, 61, 68, 78, 58, 57, 63, 67, 64, 63, 68, 69, 65, 74, 57, 60, 71, 63, 65, 66, 61, 66, 77, 76]}, {\"marker\": {\"color\": \"red\", \"size\": 20}, \"mode\": \"markers\", \"name\": \"Centroids\", \"type\": \"scatter3d\", \"x\": [73.31232591751802, 85.11554719286238], \"y\": [90.97296331633464, 103.76249127883413], \"z\": [63.70064208380745, 73.6580807535027]}],\n",
              "                        {\"annotations\": [{\"font\": {\"size\": 16}, \"showarrow\": false, \"text\": \"x\", \"x\": 0.5, \"xanchor\": \"center\", \"xref\": \"paper\", \"y\": 0, \"yanchor\": \"top\", \"yref\": \"paper\", \"yshift\": -30}, {\"font\": {\"size\": 16}, \"showarrow\": false, \"text\": \"y\", \"textangle\": -90, \"x\": 0, \"xanchor\": \"right\", \"xref\": \"paper\", \"xshift\": -40, \"y\": 0.5, \"yanchor\": \"middle\", \"yref\": \"paper\"}], \"template\": {\"data\": {\"bar\": [{\"error_x\": {\"color\": \"#2a3f5f\"}, \"error_y\": {\"color\": \"#2a3f5f\"}, \"marker\": {\"line\": {\"color\": \"#E5ECF6\", \"width\": 0.5}}, \"type\": \"bar\"}], \"barpolar\": [{\"marker\": {\"line\": {\"color\": \"#E5ECF6\", \"width\": 0.5}}, \"type\": \"barpolar\"}], \"carpet\": [{\"aaxis\": {\"endlinecolor\": \"#2a3f5f\", \"gridcolor\": \"white\", \"linecolor\": \"white\", \"minorgridcolor\": \"white\", \"startlinecolor\": \"#2a3f5f\"}, \"baxis\": {\"endlinecolor\": \"#2a3f5f\", \"gridcolor\": \"white\", \"linecolor\": \"white\", \"minorgridcolor\": \"white\", \"startlinecolor\": \"#2a3f5f\"}, \"type\": \"carpet\"}], \"choropleth\": [{\"colorbar\": {\"outlinewidth\": 0, \"ticks\": \"\"}, \"type\": \"choropleth\"}], \"contour\": [{\"colorbar\": {\"outlinewidth\": 0, \"ticks\": \"\"}, \"colorscale\": [[0.0, \"#0d0887\"], [0.1111111111111111, \"#46039f\"], [0.2222222222222222, \"#7201a8\"], [0.3333333333333333, \"#9c179e\"], [0.4444444444444444, \"#bd3786\"], [0.5555555555555556, \"#d8576b\"], [0.6666666666666666, \"#ed7953\"], [0.7777777777777778, \"#fb9f3a\"], [0.8888888888888888, \"#fdca26\"], [1.0, \"#f0f921\"]], \"type\": \"contour\"}], \"contourcarpet\": [{\"colorbar\": {\"outlinewidth\": 0, \"ticks\": \"\"}, \"type\": \"contourcarpet\"}], \"heatmap\": [{\"colorbar\": {\"outlinewidth\": 0, \"ticks\": \"\"}, \"colorscale\": [[0.0, \"#0d0887\"], [0.1111111111111111, \"#46039f\"], [0.2222222222222222, \"#7201a8\"], [0.3333333333333333, \"#9c179e\"], [0.4444444444444444, \"#bd3786\"], [0.5555555555555556, \"#d8576b\"], [0.6666666666666666, \"#ed7953\"], [0.7777777777777778, \"#fb9f3a\"], [0.8888888888888888, \"#fdca26\"], [1.0, \"#f0f921\"]], \"type\": \"heatmap\"}], \"heatmapgl\": [{\"colorbar\": {\"outlinewidth\": 0, \"ticks\": \"\"}, \"colorscale\": [[0.0, \"#0d0887\"], [0.1111111111111111, \"#46039f\"], [0.2222222222222222, \"#7201a8\"], [0.3333333333333333, \"#9c179e\"], [0.4444444444444444, \"#bd3786\"], [0.5555555555555556, \"#d8576b\"], [0.6666666666666666, \"#ed7953\"], [0.7777777777777778, \"#fb9f3a\"], [0.8888888888888888, \"#fdca26\"], [1.0, \"#f0f921\"]], \"type\": \"heatmapgl\"}], \"histogram\": [{\"marker\": {\"colorbar\": {\"outlinewidth\": 0, \"ticks\": \"\"}}, \"type\": \"histogram\"}], \"histogram2d\": [{\"colorbar\": {\"outlinewidth\": 0, \"ticks\": \"\"}, \"colorscale\": [[0.0, \"#0d0887\"], [0.1111111111111111, \"#46039f\"], [0.2222222222222222, \"#7201a8\"], [0.3333333333333333, \"#9c179e\"], [0.4444444444444444, \"#bd3786\"], [0.5555555555555556, \"#d8576b\"], [0.6666666666666666, \"#ed7953\"], [0.7777777777777778, \"#fb9f3a\"], [0.8888888888888888, \"#fdca26\"], [1.0, \"#f0f921\"]], \"type\": \"histogram2d\"}], \"histogram2dcontour\": [{\"colorbar\": {\"outlinewidth\": 0, \"ticks\": \"\"}, \"colorscale\": [[0.0, \"#0d0887\"], [0.1111111111111111, \"#46039f\"], [0.2222222222222222, \"#7201a8\"], [0.3333333333333333, \"#9c179e\"], [0.4444444444444444, \"#bd3786\"], [0.5555555555555556, \"#d8576b\"], [0.6666666666666666, \"#ed7953\"], [0.7777777777777778, \"#fb9f3a\"], [0.8888888888888888, \"#fdca26\"], [1.0, \"#f0f921\"]], \"type\": \"histogram2dcontour\"}], \"mesh3d\": [{\"colorbar\": {\"outlinewidth\": 0, \"ticks\": \"\"}, \"type\": \"mesh3d\"}], \"parcoords\": [{\"line\": {\"colorbar\": {\"outlinewidth\": 0, \"ticks\": \"\"}}, \"type\": \"parcoords\"}], \"pie\": [{\"automargin\": true, \"type\": \"pie\"}], \"scatter\": [{\"marker\": {\"colorbar\": {\"outlinewidth\": 0, \"ticks\": \"\"}}, \"type\": \"scatter\"}], \"scatter3d\": [{\"line\": {\"colorbar\": {\"outlinewidth\": 0, \"ticks\": \"\"}}, \"marker\": {\"colorbar\": {\"outlinewidth\": 0, \"ticks\": \"\"}}, \"type\": \"scatter3d\"}], \"scattercarpet\": [{\"marker\": {\"colorbar\": {\"outlinewidth\": 0, \"ticks\": \"\"}}, \"type\": \"scattercarpet\"}], \"scattergeo\": [{\"marker\": {\"colorbar\": {\"outlinewidth\": 0, \"ticks\": \"\"}}, \"type\": \"scattergeo\"}], \"scattergl\": [{\"marker\": {\"colorbar\": {\"outlinewidth\": 0, \"ticks\": \"\"}}, \"type\": \"scattergl\"}], \"scattermapbox\": [{\"marker\": {\"colorbar\": {\"outlinewidth\": 0, \"ticks\": \"\"}}, \"type\": \"scattermapbox\"}], \"scatterpolar\": [{\"marker\": {\"colorbar\": {\"outlinewidth\": 0, \"ticks\": \"\"}}, \"type\": \"scatterpolar\"}], \"scatterpolargl\": [{\"marker\": {\"colorbar\": {\"outlinewidth\": 0, \"ticks\": \"\"}}, \"type\": \"scatterpolargl\"}], \"scatterternary\": [{\"marker\": {\"colorbar\": {\"outlinewidth\": 0, \"ticks\": \"\"}}, \"type\": \"scatterternary\"}], \"surface\": [{\"colorbar\": {\"outlinewidth\": 0, \"ticks\": \"\"}, \"colorscale\": [[0.0, \"#0d0887\"], [0.1111111111111111, \"#46039f\"], [0.2222222222222222, \"#7201a8\"], [0.3333333333333333, \"#9c179e\"], [0.4444444444444444, \"#bd3786\"], [0.5555555555555556, \"#d8576b\"], [0.6666666666666666, \"#ed7953\"], [0.7777777777777778, \"#fb9f3a\"], [0.8888888888888888, \"#fdca26\"], [1.0, \"#f0f921\"]], \"type\": \"surface\"}], \"table\": [{\"cells\": {\"fill\": {\"color\": \"#EBF0F8\"}, \"line\": {\"color\": \"white\"}}, \"header\": {\"fill\": {\"color\": \"#C8D4E3\"}, \"line\": {\"color\": \"white\"}}, \"type\": \"table\"}]}, \"layout\": {\"annotationdefaults\": {\"arrowcolor\": \"#2a3f5f\", \"arrowhead\": 0, \"arrowwidth\": 1}, \"coloraxis\": {\"colorbar\": {\"outlinewidth\": 0, \"ticks\": \"\"}}, \"colorscale\": {\"diverging\": [[0, \"#8e0152\"], [0.1, \"#c51b7d\"], [0.2, \"#de77ae\"], [0.3, \"#f1b6da\"], [0.4, \"#fde0ef\"], [0.5, \"#f7f7f7\"], [0.6, \"#e6f5d0\"], [0.7, \"#b8e186\"], [0.8, \"#7fbc41\"], [0.9, \"#4d9221\"], [1, \"#276419\"]], \"sequential\": [[0.0, \"#0d0887\"], [0.1111111111111111, \"#46039f\"], [0.2222222222222222, \"#7201a8\"], [0.3333333333333333, \"#9c179e\"], [0.4444444444444444, \"#bd3786\"], [0.5555555555555556, \"#d8576b\"], [0.6666666666666666, \"#ed7953\"], [0.7777777777777778, \"#fb9f3a\"], [0.8888888888888888, \"#fdca26\"], [1.0, \"#f0f921\"]], \"sequentialminus\": [[0.0, \"#0d0887\"], [0.1111111111111111, \"#46039f\"], [0.2222222222222222, \"#7201a8\"], [0.3333333333333333, \"#9c179e\"], [0.4444444444444444, \"#bd3786\"], [0.5555555555555556, \"#d8576b\"], [0.6666666666666666, \"#ed7953\"], [0.7777777777777778, \"#fb9f3a\"], [0.8888888888888888, \"#fdca26\"], [1.0, \"#f0f921\"]]}, \"colorway\": [\"#636efa\", \"#EF553B\", \"#00cc96\", \"#ab63fa\", \"#FFA15A\", \"#19d3f3\", \"#FF6692\", \"#B6E880\", \"#FF97FF\", \"#FECB52\"], \"font\": {\"color\": \"#2a3f5f\"}, \"geo\": {\"bgcolor\": \"white\", \"lakecolor\": \"white\", \"landcolor\": \"#E5ECF6\", \"showlakes\": true, \"showland\": true, \"subunitcolor\": \"white\"}, \"hoverlabel\": {\"align\": \"left\"}, \"hovermode\": \"closest\", \"mapbox\": {\"style\": \"light\"}, \"paper_bgcolor\": \"white\", \"plot_bgcolor\": \"#E5ECF6\", \"polar\": {\"angularaxis\": {\"gridcolor\": \"white\", \"linecolor\": \"white\", \"ticks\": \"\"}, \"bgcolor\": \"#E5ECF6\", \"radialaxis\": {\"gridcolor\": \"white\", \"linecolor\": \"white\", \"ticks\": \"\"}}, \"scene\": {\"xaxis\": {\"backgroundcolor\": \"#E5ECF6\", \"gridcolor\": \"white\", \"gridwidth\": 2, \"linecolor\": \"white\", \"showbackground\": true, \"ticks\": \"\", \"zerolinecolor\": \"white\"}, \"yaxis\": {\"backgroundcolor\": \"#E5ECF6\", \"gridcolor\": \"white\", \"gridwidth\": 2, \"linecolor\": \"white\", \"showbackground\": true, \"ticks\": \"\", \"zerolinecolor\": \"white\"}, \"zaxis\": {\"backgroundcolor\": \"#E5ECF6\", \"gridcolor\": \"white\", \"gridwidth\": 2, \"linecolor\": \"white\", \"showbackground\": true, \"ticks\": \"\", \"zerolinecolor\": \"white\"}}, \"shapedefaults\": {\"line\": {\"color\": \"#2a3f5f\"}}, \"ternary\": {\"aaxis\": {\"gridcolor\": \"white\", \"linecolor\": \"white\", \"ticks\": \"\"}, \"baxis\": {\"gridcolor\": \"white\", \"linecolor\": \"white\", \"ticks\": \"\"}, \"bgcolor\": \"#E5ECF6\", \"caxis\": {\"gridcolor\": \"white\", \"linecolor\": \"white\", \"ticks\": \"\"}}, \"title\": {\"x\": 0.05}, \"xaxis\": {\"automargin\": true, \"gridcolor\": \"white\", \"linecolor\": \"white\", \"ticks\": \"\", \"title\": {\"standoff\": 15}, \"zerolinecolor\": \"white\", \"zerolinewidth\": 2}, \"yaxis\": {\"automargin\": true, \"gridcolor\": \"white\", \"linecolor\": \"white\", \"ticks\": \"\", \"title\": {\"standoff\": 15}, \"zerolinecolor\": \"white\", \"zerolinewidth\": 2}}}, \"xaxis\": {\"anchor\": \"y\", \"domain\": [0.0, 1.0]}, \"yaxis\": {\"anchor\": \"x\", \"domain\": [0.0, 1.0]}},\n",
              "                        {\"responsive\": true}\n",
              "                    ).then(function(){\n",
              "                            \n",
              "var gd = document.getElementById('3cb5a892-d398-485f-a6d8-dadf6ad781f8');\n",
              "var x = new MutationObserver(function (mutations, observer) {{\n",
              "        var display = window.getComputedStyle(gd).display;\n",
              "        if (!display || display === 'none') {{\n",
              "            console.log([gd, 'removed!']);\n",
              "            Plotly.purge(gd);\n",
              "            observer.disconnect();\n",
              "        }}\n",
              "}});\n",
              "\n",
              "// Listen for the removal of the full notebook cells\n",
              "var notebookContainer = gd.closest('#notebook-container');\n",
              "if (notebookContainer) {{\n",
              "    x.observe(notebookContainer, {childList: true});\n",
              "}}\n",
              "\n",
              "// Listen for the clearing of the current output cell\n",
              "var outputEl = gd.closest('.output');\n",
              "if (outputEl) {{\n",
              "    x.observe(outputEl, {childList: true});\n",
              "}}\n",
              "\n",
              "                        })\n",
              "                };\n",
              "                \n",
              "            </script>\n",
              "        </div>\n",
              "</body>\n",
              "</html>"
            ]
          },
          "metadata": {
            "tags": []
          }
        }
      ]
    }
  ]
}