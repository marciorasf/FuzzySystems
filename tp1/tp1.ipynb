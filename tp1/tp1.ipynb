{
 "metadata": {
  "language_info": {
   "codemirror_mode": {
    "name": "ipython",
    "version": 3
   },
   "file_extension": ".py",
   "mimetype": "text/x-python",
   "name": "python",
   "nbconvert_exporter": "python",
   "pygments_lexer": "ipython3",
   "version": "3.8.3-final"
  },
  "orig_nbformat": 2,
  "kernelspec": {
   "name": "python38364bitbasecondab5eebd88a4dc48dab9247fb3efacc3f1",
   "display_name": "Python 3.8.3 64-bit ('base': conda)"
  }
 },
 "nbformat": 4,
 "nbformat_minor": 2,
 "cells": [
  {
   "cell_type": "code",
   "execution_count": 1,
   "metadata": {},
   "outputs": [],
   "source": [
    "from scipy.io import loadmat\n",
    "import pandas as pd\n",
    "import plotly.express as px\n",
    "import plotly.graph_objects as go\n",
    "from plotly.subplots import make_subplots\n",
    "import numpy as np\n",
    "from functools import reduce\n",
    "\n",
    "\n",
    "def euclNorm(arr):\n",
    "    return np.linalg.norm(arr, ord=2)\n",
    "\n",
    "\n",
    "def cMeans(data, nClusters, mParam=2, maxIterations=False):\n",
    "    xDimension = data.shape[1]\n",
    "\n",
    "    xColumns = [f\"x{i}\" for i in range(xDimension)]\n",
    "    clusterColumns = [f\"k{i}\" for i in range(nClusters)]\n",
    "\n",
    "    dfData = pd.DataFrame(data, columns=xColumns)\n",
    "    dfCentroids = pd.DataFrame(\n",
    "        np.zeros((nClusters, xDimension)), columns=xColumns, index=clusterColumns,\n",
    "    )\n",
    "\n",
    "    for clusterCol in clusterColumns:\n",
    "        dfData[clusterCol] = 0\n",
    "\n",
    "    for row_label, row in dfData.iterrows():\n",
    "        dfData.loc[row_label, clusterColumns] = np.random.dirichlet(\n",
    "            np.ones(nClusters), size=1\n",
    "        )[0]\n",
    "\n",
    "    for clusterCol in clusterColumns:\n",
    "        dfCentroids.loc[clusterCol, :] = [\n",
    "            [np.dot((dfData[clusterCol] ** mParam), dfData[xCol]) for xCol in xColumns]\n",
    "        ] / (dfData[clusterCol] ** 2).sum()\n",
    "\n",
    "    exponent = 2 / (mParam - 1)\n",
    "    for gen in range(2):\n",
    "        for row_label, row in dfData.iterrows():\n",
    "            x = row[xColumns]\n",
    "            for clusterCol in clusterColumns:\n",
    "                denominator = 0\n",
    "                for _, centroid in dfCentroids.iterrows():\n",
    "                    denominator += (\n",
    "                        euclNorm(x - dfCentroids.loc[clusterCol, :])\n",
    "                        / euclNorm(x - centroid)\n",
    "                    ) ** exponent\n",
    "                row[clusterCol] = 1 / denominator\n",
    "\n",
    "        for clusterCol in clusterColumns:\n",
    "            dfCentroids.loc[clusterCol, :] = [\n",
    "                [\n",
    "                    np.dot((dfData[clusterCol] ** mParam), dfData[xCol])\n",
    "                    for xCol in xColumns\n",
    "                ]\n",
    "            ] / (dfData[clusterCol] ** 2).sum()\n",
    "\n",
    "        print(f\"iteration {gen}\")\n",
    "\n",
    "    return [dfData, dfCentroids]"
   ]
  },
  {
   "cell_type": "code",
   "execution_count": 2,
   "metadata": {},
   "outputs": [],
   "source": [
    "def printData():\n",
    "    fig = px.scatter(data, x=\"x0\", y=\"x1\")\n",
    "    fig.show()\n",
    "\n",
    "def printCentroids():\n",
    "    fig = px.scatter(centroids, x=\"x0\", y=\"x1\")\n",
    "    fig.show()\n",
    "\n",
    "def printDataAndCentroids():\n",
    "    fig = make_subplots(x_title=\"x\", y_title=\"y\")\n",
    "\n",
    "    # Add traces\n",
    "    fig.add_trace(go.Scatter(\n",
    "        x=data[\"x0\"], \n",
    "        y=data[\"x1\"], \n",
    "        mode=\"markers\", \n",
    "        name=\"Input points\"\n",
    "        ))\n",
    "    fig.add_trace(go.Scatter(\n",
    "        x=centroids[\"x0\"], \n",
    "        y=centroids[\"x1\"], \n",
    "        mode=\"markers\", \n",
    "        name=\"Centroids\",\n",
    "        marker=dict(\n",
    "            color=\"red\",\n",
    "            size=15\n",
    "        )\n",
    "        ))\n",
    "    fig.show()"
   ]
  },
  {
   "cell_type": "code",
   "execution_count": 3,
   "metadata": {
    "tags": []
   },
   "outputs": [
    {
     "output_type": "stream",
     "name": "stdout",
     "text": "iteration 0\niteration 1\n"
    }
   ],
   "source": [
    "rawData = loadmat(\"./fcm_dataset.mat\")\n",
    "data, centroids = cMeans(rawData[\"x\"], 4)"
   ]
  },
  {
   "cell_type": "code",
   "execution_count": null,
   "metadata": {},
   "outputs": [],
   "source": []
  }
 ]
}